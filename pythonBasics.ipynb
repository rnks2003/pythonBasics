{
 "cells": [
  {
   "cell_type": "markdown",
   "id": "eb081c4d",
   "metadata": {},
   "source": [
    "**Python Basics**"
   ]
  },
  {
   "cell_type": "markdown",
   "id": "13a0dd71",
   "metadata": {},
   "source": [
    "Printing :"
   ]
  },
  {
   "cell_type": "code",
   "execution_count": 13,
   "id": "aac49679",
   "metadata": {},
   "outputs": [
    {
     "name": "stdout",
     "output_type": "stream",
     "text": [
      "Hello\n"
     ]
    }
   ],
   "source": [
    "# Simple print\n",
    "# print(...)\n",
    "\n",
    "x = \"Hello\"\n",
    "print(x)"
   ]
  },
  {
   "cell_type": "code",
   "execution_count": 14,
   "id": "13b477f1",
   "metadata": {
    "scrolled": true
   },
   "outputs": [
    {
     "name": "stdout",
     "output_type": "stream",
     "text": [
      "X + Y =  11\n"
     ]
    }
   ],
   "source": [
    "# multiple argument printing\n",
    "# print(x,y,z,...)\n",
    "\n",
    "msg = \"X + Y = \"\n",
    "x = 5\n",
    "y = 6\n",
    "\n",
    "print(msg,x+y)"
   ]
  },
  {
   "cell_type": "code",
   "execution_count": 12,
   "id": "af1aa92c",
   "metadata": {},
   "outputs": [
    {
     "name": "stdout",
     "output_type": "stream",
     "text": [
      "X + Y = 11\n"
     ]
    }
   ],
   "source": [
    "# formatted string printing\n",
    "# use f\"...{...}...\"\n",
    "\n",
    "x = 5\n",
    "y = 6\n",
    "\n",
    "print(f\"X + Y = {x+y}\")"
   ]
  },
  {
   "cell_type": "markdown",
   "id": "280e1b73",
   "metadata": {},
   "source": [
    "Datatypes : "
   ]
  },
  {
   "cell_type": "code",
   "execution_count": 26,
   "id": "5ba8c78f",
   "metadata": {},
   "outputs": [
    {
     "name": "stdout",
     "output_type": "stream",
     "text": [
      "type(x) =  <class 'int'>\n",
      "type(y) =  <class 'float'>\n",
      "type(z) =  <class 'str'>\n"
     ]
    }
   ],
   "source": [
    "x = 5\n",
    "y = 5.0\n",
    "z = '5'\n",
    "\n",
    "print(\"type(x) = \",type(x))\n",
    "print(\"type(y) = \",type(y))\n",
    "print(\"type(z) = \",type(z))"
   ]
  },
  {
   "cell_type": "markdown",
   "id": "2623ca36",
   "metadata": {},
   "source": [
    "User input : "
   ]
  },
  {
   "cell_type": "code",
   "execution_count": 47,
   "id": "a3dc1b72",
   "metadata": {},
   "outputs": [
    {
     "name": "stdout",
     "output_type": "stream",
     "text": [
      "X = Hello\n",
      "\n",
      "X = Hello\n",
      "type(x) =  <class 'str'>\n"
     ]
    }
   ],
   "source": [
    "x = input(\"X = \")\n",
    "\n",
    "print(\"\\nX = \" + x)\n",
    "print(\"type(x) = \",type(x))"
   ]
  },
  {
   "cell_type": "code",
   "execution_count": 40,
   "id": "15a6cbfd",
   "metadata": {},
   "outputs": [
    {
     "name": "stdout",
     "output_type": "stream",
     "text": [
      "X = 5.0\n",
      "Y = 4.0\n",
      "\n",
      "type(x) :  <class 'str'> \n",
      "type(y) :  <class 'str'> \n",
      "\n",
      "X + Y = 5.04.0\n"
     ]
    }
   ],
   "source": [
    "x = input(\"X = \")\n",
    "y = input(\"Y = \")\n",
    "\n",
    "print(\"\\ntype(x) : \",type(x),\"\\ntype(y) : \",type(y),\"\\n\")\n",
    "\n",
    "print(f\"X + Y = {x+y}\")"
   ]
  },
  {
   "cell_type": "code",
   "execution_count": 42,
   "id": "55142a84",
   "metadata": {},
   "outputs": [
    {
     "name": "stdout",
     "output_type": "stream",
     "text": [
      "X = 4\n",
      "Y = 5\n",
      "\n",
      "type(x) :  <class 'float'> \n",
      "type(y) :  <class 'int'> \n",
      "\n",
      "X + Y = 9.0\n"
     ]
    }
   ],
   "source": [
    "x = float(input(\"X = \"))\n",
    "y = int(input(\"Y = \"))\n",
    "\n",
    "print(\"\\ntype(x) : \",type(x),\"\\ntype(y) : \",type(y),\"\\n\")\n",
    "\n",
    "print(f\"X + Y = {x+y}\")"
   ]
  }
 ],
 "metadata": {
  "kernelspec": {
   "display_name": "Python 3 (ipykernel)",
   "language": "python",
   "name": "python3"
  },
  "language_info": {
   "codemirror_mode": {
    "name": "ipython",
    "version": 3
   },
   "file_extension": ".py",
   "mimetype": "text/x-python",
   "name": "python",
   "nbconvert_exporter": "python",
   "pygments_lexer": "ipython3",
   "version": "3.10.9"
  }
 },
 "nbformat": 4,
 "nbformat_minor": 5
}
